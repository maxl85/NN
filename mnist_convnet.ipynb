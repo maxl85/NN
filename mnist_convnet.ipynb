{
  "cells": [
    {
      "cell_type": "markdown",
      "metadata": {
        "id": "Em4F9Rb1pQ3B"
      },
      "source": [
        "# Simple MNIST convnet\n",
        "\n",
        "A simple convnet that achieves ~99% test accuracy on MNIST."
      ]
    },
    {
      "cell_type": "markdown",
      "metadata": {
        "id": "LQfQwVtFpQ3G"
      },
      "source": [
        "## Setup"
      ]
    },
    {
      "cell_type": "code",
      "execution_count": 1,
      "metadata": {
        "id": "Kc7mMWnKpQ3G"
      },
      "outputs": [
        {
          "name": "stdout",
          "output_type": "stream",
          "text": [
            "WARNING:tensorflow:From c:\\Users\\main\\Desktop\\X\\OpenCV\\NN\\venv\\lib\\site-packages\\keras\\src\\losses.py:2976: The name tf.losses.sparse_softmax_cross_entropy is deprecated. Please use tf.compat.v1.losses.sparse_softmax_cross_entropy instead.\n",
            "\n"
          ]
        }
      ],
      "source": [
        "import numpy as np\n",
        "import keras\n",
        "from keras import layers"
      ]
    },
    {
      "cell_type": "markdown",
      "metadata": {
        "id": "L0Tl3wR7pQ3I"
      },
      "source": [
        "## Prepare the data"
      ]
    },
    {
      "cell_type": "code",
      "execution_count": 2,
      "metadata": {
        "id": "cNGg-TE8pQ3J"
      },
      "outputs": [
        {
          "name": "stdout",
          "output_type": "stream",
          "text": [
            "x_train shape: (60000, 28, 28, 1)\n",
            "60000 train samples\n",
            "10000 test samples\n"
          ]
        }
      ],
      "source": [
        "# Model / data parameters\n",
        "num_classes = 10\n",
        "input_shape = (28, 28, 1)\n",
        "\n",
        "# Load the data and split it between train and test sets\n",
        "(x_train, y_train), (x_test, y_test) = keras.datasets.mnist.load_data()\n",
        "\n",
        "# Scale images to the [0, 1] range\n",
        "x_train = x_train.astype(\"float32\") / 255\n",
        "x_test = x_test.astype(\"float32\") / 255\n",
        "# Make sure images have shape (28, 28, 1)\n",
        "x_train = np.expand_dims(x_train, -1)\n",
        "x_test = np.expand_dims(x_test, -1)\n",
        "print(\"x_train shape:\", x_train.shape)\n",
        "print(x_train.shape[0], \"train samples\")\n",
        "print(x_test.shape[0], \"test samples\")\n",
        "\n",
        "\n",
        "# convert class vectors to binary class matrices\n",
        "y_train = keras.utils.to_categorical(y_train, num_classes)\n",
        "y_test = keras.utils.to_categorical(y_test, num_classes)"
      ]
    },
    {
      "cell_type": "markdown",
      "metadata": {
        "id": "MbLth0ZupQ3J"
      },
      "source": [
        "## Build the model"
      ]
    },
    {
      "cell_type": "code",
      "execution_count": 3,
      "metadata": {
        "id": "sqRZojMopQ3K"
      },
      "outputs": [
        {
          "name": "stdout",
          "output_type": "stream",
          "text": [
            "WARNING:tensorflow:From c:\\Users\\main\\Desktop\\X\\OpenCV\\NN\\venv\\lib\\site-packages\\keras\\src\\backend.py:1398: The name tf.executing_eagerly_outside_functions is deprecated. Please use tf.compat.v1.executing_eagerly_outside_functions instead.\n",
            "\n",
            "WARNING:tensorflow:From c:\\Users\\main\\Desktop\\X\\OpenCV\\NN\\venv\\lib\\site-packages\\keras\\src\\layers\\pooling\\max_pooling2d.py:161: The name tf.nn.max_pool is deprecated. Please use tf.nn.max_pool2d instead.\n",
            "\n",
            "Model: \"sequential\"\n",
            "_________________________________________________________________\n",
            " Layer (type)                Output Shape              Param #   \n",
            "=================================================================\n",
            " conv2d (Conv2D)             (None, 26, 26, 32)        320       \n",
            "                                                                 \n",
            " max_pooling2d (MaxPooling2  (None, 13, 13, 32)        0         \n",
            " D)                                                              \n",
            "                                                                 \n",
            " conv2d_1 (Conv2D)           (None, 11, 11, 64)        18496     \n",
            "                                                                 \n",
            " max_pooling2d_1 (MaxPoolin  (None, 5, 5, 64)          0         \n",
            " g2D)                                                            \n",
            "                                                                 \n",
            " flatten (Flatten)           (None, 1600)              0         \n",
            "                                                                 \n",
            " dropout (Dropout)           (None, 1600)              0         \n",
            "                                                                 \n",
            " dense (Dense)               (None, 10)                16010     \n",
            "                                                                 \n",
            "=================================================================\n",
            "Total params: 34826 (136.04 KB)\n",
            "Trainable params: 34826 (136.04 KB)\n",
            "Non-trainable params: 0 (0.00 Byte)\n",
            "_________________________________________________________________\n"
          ]
        }
      ],
      "source": [
        "model = keras.Sequential(\n",
        "    [\n",
        "        keras.Input(shape=input_shape),\n",
        "        layers.Conv2D(32, kernel_size=(3, 3), activation=\"relu\"),\n",
        "        layers.MaxPooling2D(pool_size=(2, 2)),\n",
        "        layers.Conv2D(64, kernel_size=(3, 3), activation=\"relu\"),\n",
        "        layers.MaxPooling2D(pool_size=(2, 2)),\n",
        "        layers.Flatten(),\n",
        "        layers.Dropout(0.5),\n",
        "        layers.Dense(num_classes, activation=\"softmax\"),\n",
        "    ]\n",
        ")\n",
        "\n",
        "model.summary()"
      ]
    },
    {
      "cell_type": "markdown",
      "metadata": {
        "id": "-mBXgeyUpQ3L"
      },
      "source": [
        "## Train the model"
      ]
    },
    {
      "cell_type": "code",
      "execution_count": 4,
      "metadata": {
        "id": "4SESHsMnpQ3L"
      },
      "outputs": [
        {
          "name": "stdout",
          "output_type": "stream",
          "text": [
            "WARNING:tensorflow:From c:\\Users\\main\\Desktop\\X\\OpenCV\\NN\\venv\\lib\\site-packages\\keras\\src\\optimizers\\__init__.py:309: The name tf.train.Optimizer is deprecated. Please use tf.compat.v1.train.Optimizer instead.\n",
            "\n",
            "Epoch 1/15\n",
            "WARNING:tensorflow:From c:\\Users\\main\\Desktop\\X\\OpenCV\\NN\\venv\\lib\\site-packages\\keras\\src\\utils\\tf_utils.py:492: The name tf.ragged.RaggedTensorValue is deprecated. Please use tf.compat.v1.ragged.RaggedTensorValue instead.\n",
            "\n",
            "WARNING:tensorflow:From c:\\Users\\main\\Desktop\\X\\OpenCV\\NN\\venv\\lib\\site-packages\\keras\\src\\engine\\base_layer_utils.py:384: The name tf.executing_eagerly_outside_functions is deprecated. Please use tf.compat.v1.executing_eagerly_outside_functions instead.\n",
            "\n",
            "422/422 [==============================] - 5s 10ms/step - loss: 0.3776 - accuracy: 0.8877 - val_loss: 0.0820 - val_accuracy: 0.9788\n",
            "Epoch 2/15\n",
            "422/422 [==============================] - 4s 10ms/step - loss: 0.1114 - accuracy: 0.9660 - val_loss: 0.0578 - val_accuracy: 0.9845\n",
            "Epoch 3/15\n",
            "422/422 [==============================] - 5s 13ms/step - loss: 0.0833 - accuracy: 0.9749 - val_loss: 0.0512 - val_accuracy: 0.9863\n",
            "Epoch 4/15\n",
            "422/422 [==============================] - 5s 12ms/step - loss: 0.0726 - accuracy: 0.9770 - val_loss: 0.0439 - val_accuracy: 0.9873\n",
            "Epoch 5/15\n",
            "422/422 [==============================] - 4s 9ms/step - loss: 0.0629 - accuracy: 0.9801 - val_loss: 0.0371 - val_accuracy: 0.9902\n",
            "Epoch 6/15\n",
            "422/422 [==============================] - 5s 13ms/step - loss: 0.0557 - accuracy: 0.9821 - val_loss: 0.0352 - val_accuracy: 0.9903\n",
            "Epoch 7/15\n",
            "422/422 [==============================] - 5s 12ms/step - loss: 0.0533 - accuracy: 0.9833 - val_loss: 0.0358 - val_accuracy: 0.9895\n",
            "Epoch 8/15\n",
            "422/422 [==============================] - 4s 9ms/step - loss: 0.0492 - accuracy: 0.9847 - val_loss: 0.0341 - val_accuracy: 0.9913\n",
            "Epoch 9/15\n",
            "422/422 [==============================] - 5s 13ms/step - loss: 0.0457 - accuracy: 0.9854 - val_loss: 0.0306 - val_accuracy: 0.9917\n",
            "Epoch 10/15\n",
            "422/422 [==============================] - 5s 11ms/step - loss: 0.0445 - accuracy: 0.9862 - val_loss: 0.0307 - val_accuracy: 0.9918\n",
            "Epoch 11/15\n",
            "422/422 [==============================] - 4s 9ms/step - loss: 0.0400 - accuracy: 0.9867 - val_loss: 0.0313 - val_accuracy: 0.9917\n",
            "Epoch 12/15\n",
            "422/422 [==============================] - 6s 13ms/step - loss: 0.0368 - accuracy: 0.9879 - val_loss: 0.0308 - val_accuracy: 0.9910\n",
            "Epoch 13/15\n",
            "422/422 [==============================] - 5s 11ms/step - loss: 0.0375 - accuracy: 0.9880 - val_loss: 0.0283 - val_accuracy: 0.9922\n",
            "Epoch 14/15\n",
            "422/422 [==============================] - 4s 9ms/step - loss: 0.0347 - accuracy: 0.9884 - val_loss: 0.0283 - val_accuracy: 0.9925\n",
            "Epoch 15/15\n",
            "422/422 [==============================] - 5s 12ms/step - loss: 0.0341 - accuracy: 0.9890 - val_loss: 0.0301 - val_accuracy: 0.9908\n"
          ]
        },
        {
          "data": {
            "text/plain": [
              "<keras.src.callbacks.History at 0x245581dedd0>"
            ]
          },
          "execution_count": 4,
          "metadata": {},
          "output_type": "execute_result"
        }
      ],
      "source": [
        "batch_size = 128\n",
        "epochs = 15\n",
        "\n",
        "model.compile(loss=\"categorical_crossentropy\", optimizer=\"adam\", metrics=[\"accuracy\"])\n",
        "\n",
        "model.fit(x_train, y_train, batch_size=batch_size, epochs=epochs, validation_split=0.1)"
      ]
    },
    {
      "cell_type": "markdown",
      "metadata": {
        "id": "EbyjGbVSpQ3M"
      },
      "source": [
        "## Evaluate the trained model"
      ]
    },
    {
      "cell_type": "code",
      "execution_count": 5,
      "metadata": {
        "id": "d7EOasompQ3M"
      },
      "outputs": [
        {
          "name": "stdout",
          "output_type": "stream",
          "text": [
            "Test loss: 0.024328717961907387\n",
            "Test accuracy: 0.9918000102043152\n"
          ]
        }
      ],
      "source": [
        "score = model.evaluate(x_test, y_test, verbose=0)\n",
        "print(\"Test loss:\", score[0])\n",
        "print(\"Test accuracy:\", score[1])"
      ]
    }
  ],
  "metadata": {
    "accelerator": "GPU",
    "colab": {
      "name": "mnist_convnet",
      "provenance": [],
      "toc_visible": true
    },
    "kernelspec": {
      "display_name": "Python 3",
      "language": "python",
      "name": "python3"
    },
    "language_info": {
      "codemirror_mode": {
        "name": "ipython",
        "version": 3
      },
      "file_extension": ".py",
      "mimetype": "text/x-python",
      "name": "python",
      "nbconvert_exporter": "python",
      "pygments_lexer": "ipython3",
      "version": "3.10.10"
    }
  },
  "nbformat": 4,
  "nbformat_minor": 0
}
